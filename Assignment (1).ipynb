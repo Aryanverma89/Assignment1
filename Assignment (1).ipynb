{
 "cells": [
  {
   "cell_type": "markdown",
   "id": "3305c30d-fa31-4463-8407-02559473bf28",
   "metadata": {},
   "source": [
    "Ques1:  Create one variable containing following type of data:"
   ]
  },
  {
   "cell_type": "code",
   "execution_count": 1,
   "id": "7d5ec0f2-2aee-43e0-bcfe-36d5b52945d5",
   "metadata": {},
   "outputs": [],
   "source": [
    "#(i)- string- In string we store character type data. \n",
    "r=\"Aryan\""
   ]
  },
  {
   "cell_type": "code",
   "execution_count": 2,
   "id": "fdf83148-4e24-41ef-9250-3761ecd25c10",
   "metadata": {},
   "outputs": [
    {
     "data": {
      "text/plain": [
       "str"
      ]
     },
     "execution_count": 2,
     "metadata": {},
     "output_type": "execute_result"
    }
   ],
   "source": [
    "type(r)"
   ]
  },
  {
   "cell_type": "code",
   "execution_count": 3,
   "id": "238b8bde-ad3d-427f-b21a-d3f8c8772a71",
   "metadata": {},
   "outputs": [],
   "source": [
    "#(ii)- list- In list we store multiple items in a single variable. In list we able to modify data elements.\n",
    "l=[1,2,45,\"Aryan\",4+8j,True,2.56]"
   ]
  },
  {
   "cell_type": "code",
   "execution_count": 4,
   "id": "cc09b40c-bf77-48c0-b265-402c85192706",
   "metadata": {},
   "outputs": [
    {
     "data": {
      "text/plain": [
       "list"
      ]
     },
     "execution_count": 4,
     "metadata": {},
     "output_type": "execute_result"
    }
   ],
   "source": [
    "type(l)"
   ]
  },
  {
   "cell_type": "code",
   "execution_count": 6,
   "id": "a5664f78-3a62-4d5f-92ef-2a823e127ef1",
   "metadata": {},
   "outputs": [],
   "source": [
    "#(iii)- float- In float we store decimal type values.\n",
    "a=467.97"
   ]
  },
  {
   "cell_type": "code",
   "execution_count": 7,
   "id": "3e1be690-e646-4d4b-923b-baeb8094366d",
   "metadata": {},
   "outputs": [
    {
     "data": {
      "text/plain": [
       "float"
      ]
     },
     "execution_count": 7,
     "metadata": {},
     "output_type": "execute_result"
    }
   ],
   "source": [
    "type(a)"
   ]
  },
  {
   "cell_type": "code",
   "execution_count": 32,
   "id": "e44870b2-b8f6-48ec-8c83-dea6f6e21c41",
   "metadata": {},
   "outputs": [],
   "source": [
    "#(iv)- tuple-In tuple we store multiple items in a single variable.In tuple we cannot modify data elements.\n",
    "tuple=(3,6,9,\"Aryan\",True,8+4j,45.76)\n"
   ]
  },
  {
   "cell_type": "code",
   "execution_count": 34,
   "id": "55f56817-fe08-42d4-8649-1eb833f05e30",
   "metadata": {},
   "outputs": [
    {
     "data": {
      "text/plain": [
       "tuple"
      ]
     },
     "execution_count": 34,
     "metadata": {},
     "output_type": "execute_result"
    }
   ],
   "source": [
    "type(tuple)"
   ]
  },
  {
   "cell_type": "markdown",
   "id": "48ae907f-8c28-4dbd-a6f1-381fefb22eb3",
   "metadata": {},
   "source": [
    "Ques2. Given are some following variables containing data:\n",
    "(i) var1 = ' '\n",
    "(ii) var2 = '[DS ,ML , Python ]'\n",
    "(iii) var3=['DS','ML','python']\n",
    "(iv) var4= 1.\n",
    "What will be the data type of the above given variable."
   ]
  },
  {
   "cell_type": "code",
   "execution_count": 40,
   "id": "2793e2eb-a795-4413-a0b6-47299f4f0ff3",
   "metadata": {},
   "outputs": [],
   "source": [
    "\"\"\"Ans=\n",
    "\n",
    "(i)- var1 is a empty string.\n",
    "(ii)-var2 is an string .\n",
    "(iii)- var3 is a list of structured string.\n",
    "(iv) - var4 is a float type data element if 1. otherwise var4 is int type data element. \"\"\"\n"
   ]
  },
  {
   "cell_type": "markdown",
   "id": "4cacfbf1-dcda-4368-a49f-8520998bfa35",
   "metadata": {},
   "source": [
    "Ques3. Explain the use of the following operators using an example:\n",
    "(i) /\n",
    "(ii) %\n",
    "(iii) //\n",
    "(iv) **             "
   ]
  },
  {
   "cell_type": "code",
   "execution_count": 60,
   "id": "9d2c41cc-08df-4b56-b8d3-a79640d2978a",
   "metadata": {},
   "outputs": [
    {
     "data": {
      "text/plain": [
       "12.5"
      ]
     },
     "execution_count": 60,
     "metadata": {},
     "output_type": "execute_result"
    }
   ],
   "source": [
    " #(i)   / for division \n",
    "100/8"
   ]
  },
  {
   "cell_type": "code",
   "execution_count": 58,
   "id": "76188a3d-584c-422d-9739-748b57c77d3d",
   "metadata": {},
   "outputs": [
    {
     "data": {
      "text/plain": [
       "4"
      ]
     },
     "execution_count": 58,
     "metadata": {},
     "output_type": "execute_result"
    }
   ],
   "source": [
    "#(ii)  % for find remainder\n",
    "100%8"
   ]
  },
  {
   "cell_type": "code",
   "execution_count": 61,
   "id": "58a3d044-7a3f-4c53-9b81-6efbd2f47965",
   "metadata": {},
   "outputs": [
    {
     "data": {
      "text/plain": [
       "12"
      ]
     },
     "execution_count": 61,
     "metadata": {},
     "output_type": "execute_result"
    }
   ],
   "source": [
    "#(iii)  // used for show how many times divide integer value.\n",
    "100//8"
   ]
  },
  {
   "cell_type": "code",
   "execution_count": 62,
   "id": "03a6a1ca-d479-45a4-833b-e1c423edf70e",
   "metadata": {},
   "outputs": [
    {
     "data": {
      "text/plain": [
       "32"
      ]
     },
     "execution_count": 62,
     "metadata": {},
     "output_type": "execute_result"
    }
   ],
   "source": [
    "#(iv)  ** used to calculate power (exponent operator).\n",
    "2**5"
   ]
  },
  {
   "cell_type": "markdown",
   "id": "0cc86019-66ff-4a9d-b21f-91083e6f36be",
   "metadata": {},
   "source": [
    " Q4. Create a list of length 10 of your choice containing multiple types of data. Using for loop print the element and its data type.\n"
   ]
  },
  {
   "cell_type": "code",
   "execution_count": 77,
   "id": "4950dec4-5714-4cac-bedd-3668634e9c0a",
   "metadata": {},
   "outputs": [
    {
     "name": "stdout",
     "output_type": "stream",
     "text": [
      "<class 'int'>\n",
      "2\n",
      "<class 'int'>\n",
      "4\n",
      "<class 'int'>\n",
      "6\n",
      "<class 'bool'>\n",
      "True\n",
      "<class 'str'>\n",
      "RAM\n",
      "<class 'complex'>\n",
      "(3+8j)\n",
      "<class 'float'>\n",
      "23.56\n",
      "<class 'int'>\n",
      "12\n",
      "<class 'bool'>\n",
      "False\n",
      "<class 'str'>\n",
      "PW\n"
     ]
    }
   ],
   "source": [
    "l1=[2,4,6,True,\"RAM\" ,(3+8j), 23.56 , 12 , False,'PW']\n",
    "for i in l1 :\n",
    "    print(type(i))\n",
    "    print(i)"
   ]
  },
  {
   "cell_type": "markdown",
   "id": "6641097b-15b8-44a6-b084-b5b363984c2f",
   "metadata": {},
   "source": [
    "Q5. Using a while loop, verify if the number A is purely divisible by number B and if so then how many times it can be divisible."
   ]
  },
  {
   "cell_type": "code",
   "execution_count": 26,
   "id": "e430389b-3bc9-4a66-a967-972682767b0b",
   "metadata": {},
   "outputs": [
    {
     "name": "stdin",
     "output_type": "stream",
     "text": [
      "Enter first no.  15\n",
      " Enter second no. 5\n"
     ]
    },
    {
     "name": "stdout",
     "output_type": "stream",
     "text": [
      "divisible by 3 times.\n"
     ]
    }
   ],
   "source": [
    "a=int(input(\"Enter first no. \"))\n",
    "b=int(input(\" Enter second no.\"))\n",
    "count = 0\n",
    "\n",
    "if b != 0:\n",
    "    while a >= b:\n",
    "        a -= b\n",
    "        count += 1\n",
    "\n",
    "    if a == 0:\n",
    "        print(f\"divisible by {count} times.\")\n",
    "    else:\n",
    "        print(\"not divisible\")\n",
    "else:\n",
    "    print(\"Division by zero is not allowed.\")\n",
    "        \n",
    "    \n",
    "    \n",
    "    \n"
   ]
  },
  {
   "cell_type": "markdown",
   "id": "e2b692a1-824a-4a33-967e-21cd85127426",
   "metadata": {},
   "source": [
    "Ques6. Create a list containing 25 int type data. Using for loop and if-else condition print if the element is divisible by 3 or not."
   ]
  },
  {
   "cell_type": "code",
   "execution_count": 14,
   "id": "9ef9dde7-46e9-413b-99b7-ef5701d168dd",
   "metadata": {},
   "outputs": [
    {
     "name": "stdout",
     "output_type": "stream",
     "text": [
      "2\n",
      "not divisible by 3\n",
      "3\n",
      "yes divisible by 3\n",
      "4\n",
      "not divisible by 3\n",
      "5\n",
      "not divisible by 3\n",
      "6\n",
      "yes divisible by 3\n",
      "7\n",
      "not divisible by 3\n",
      "8\n",
      "not divisible by 3\n",
      "9\n",
      "yes divisible by 3\n",
      "10\n",
      "not divisible by 3\n",
      "11\n",
      "not divisible by 3\n",
      "12\n",
      "yes divisible by 3\n",
      "14\n",
      "not divisible by 3\n",
      "15\n",
      "yes divisible by 3\n",
      "16\n",
      "not divisible by 3\n",
      "17\n",
      "not divisible by 3\n",
      "18\n",
      "yes divisible by 3\n",
      "20\n",
      "not divisible by 3\n",
      "21\n",
      "yes divisible by 3\n",
      "22\n",
      "not divisible by 3\n",
      "23\n",
      "not divisible by 3\n",
      "23\n",
      "not divisible by 3\n",
      "24\n",
      "yes divisible by 3\n",
      "25\n",
      "not divisible by 3\n",
      "27\n",
      "yes divisible by 3\n",
      "33\n",
      "yes divisible by 3\n",
      "42\n",
      "yes divisible by 3\n"
     ]
    }
   ],
   "source": [
    "l=[2,3,4,5,6,7,8,9,10,11,12,14,15,16,17,18,20,21,22,23,23,24,25,27,33,42]\n",
    "r=3\n",
    "for j in l:\n",
    "    if j%r==0:\n",
    "        print(j)\n",
    "        print(\"yes divisible by 3\")\n",
    "    else:\n",
    "        print(j)\n",
    "        print(\"not divisible by 3\")"
   ]
  },
  {
   "cell_type": "markdown",
   "id": "6cf2cc26-5b07-4b38-bf77-648be28736d1",
   "metadata": {},
   "source": [
    "Ques7. What do you understand about mutable and immutable data types? Give examples for both showing this property.\n"
   ]
  },
  {
   "cell_type": "code",
   "execution_count": 16,
   "id": "caea1217-0080-4076-95d2-7c0c8f8bb876",
   "metadata": {},
   "outputs": [],
   "source": [
    "# Mutable Data Type - In this we can change or modify data elements values or items in a given variables. \n",
    "# for example - List\n",
    "l1=[2,5,True,\"rAM\",34.56]"
   ]
  },
  {
   "cell_type": "code",
   "execution_count": 17,
   "id": "f1a0a27b-0ec0-47a3-b2d3-0b3ebaf439af",
   "metadata": {},
   "outputs": [],
   "source": [
    "l1[2]=False"
   ]
  },
  {
   "cell_type": "code",
   "execution_count": 19,
   "id": "97b410eb-cc15-4677-b656-594dc1bf015f",
   "metadata": {},
   "outputs": [],
   "source": [
    "l1[3]=\"Ram\""
   ]
  },
  {
   "cell_type": "code",
   "execution_count": 20,
   "id": "8b6ebd34-3204-47a8-9b4f-e68c8e30ed3f",
   "metadata": {},
   "outputs": [
    {
     "data": {
      "text/plain": [
       "[2, 5, False, 'Ram', 34.56]"
      ]
     },
     "execution_count": 20,
     "metadata": {},
     "output_type": "execute_result"
    }
   ],
   "source": [
    "l1\n"
   ]
  },
  {
   "cell_type": "code",
   "execution_count": 21,
   "id": "6552b732-5e51-4f6d-8807-d6c9765fc654",
   "metadata": {},
   "outputs": [],
   "source": [
    "# Immutable Data Type -In this we cannot change or modify data elements values or items in a given variable.\n",
    "# for example - strings , tuple\n",
    "s=\"PWSKILLS\""
   ]
  },
  {
   "cell_type": "code",
   "execution_count": 22,
   "id": "1787713f-c2eb-4738-80d0-497d33e3edd6",
   "metadata": {},
   "outputs": [
    {
     "ename": "TypeError",
     "evalue": "'str' object does not support item assignment",
     "output_type": "error",
     "traceback": [
      "\u001b[0;31m---------------------------------------------------------------------------\u001b[0m",
      "\u001b[0;31mTypeError\u001b[0m                                 Traceback (most recent call last)",
      "Cell \u001b[0;32mIn[22], line 1\u001b[0m\n\u001b[0;32m----> 1\u001b[0m \u001b[43ms\u001b[49m\u001b[43m[\u001b[49m\u001b[38;5;241;43m2\u001b[39;49m\u001b[43m]\u001b[49m\u001b[38;5;241m=\u001b[39ms\n",
      "\u001b[0;31mTypeError\u001b[0m: 'str' object does not support item assignment"
     ]
    }
   ],
   "source": [
    "s[2]=s"
   ]
  },
  {
   "cell_type": "code",
   "execution_count": 27,
   "id": "ac7b6cca-c06f-4ebd-a143-eec5d256553d",
   "metadata": {},
   "outputs": [],
   "source": [
    "tuple=(2,5,True,\"rAM\",34.56)"
   ]
  },
  {
   "cell_type": "code",
   "execution_count": 28,
   "id": "debde6fa-17d1-45ea-9434-eaae6cd740c0",
   "metadata": {},
   "outputs": [
    {
     "ename": "TypeError",
     "evalue": "'tuple' object does not support item assignment",
     "output_type": "error",
     "traceback": [
      "\u001b[0;31m---------------------------------------------------------------------------\u001b[0m",
      "\u001b[0;31mTypeError\u001b[0m                                 Traceback (most recent call last)",
      "Cell \u001b[0;32mIn[28], line 1\u001b[0m\n\u001b[0;32m----> 1\u001b[0m \u001b[38;5;28;43mtuple\u001b[39;49m\u001b[43m[\u001b[49m\u001b[38;5;241;43m2\u001b[39;49m\u001b[43m]\u001b[49m\u001b[38;5;241m=\u001b[39m\u001b[38;5;241m7\u001b[39m\n",
      "\u001b[0;31mTypeError\u001b[0m: 'tuple' object does not support item assignment"
     ]
    }
   ],
   "source": [
    "tuple[2]=7"
   ]
  },
  {
   "cell_type": "code",
   "execution_count": 30,
   "id": "1e256fe5-2028-4bf4-aebb-b58340cbfaf5",
   "metadata": {},
   "outputs": [
    {
     "data": {
      "text/plain": [
       "(2, 5, True, 'rAM', 34.56)"
      ]
     },
     "execution_count": 30,
     "metadata": {},
     "output_type": "execute_result"
    }
   ],
   "source": [
    "tuple\n"
   ]
  },
  {
   "cell_type": "code",
   "execution_count": null,
   "id": "42c2d6c8-2c6f-47b2-b178-f576aa18d887",
   "metadata": {},
   "outputs": [],
   "source": [
    "# here we see in tuple or string we cannnot modify data elements values or items."
   ]
  }
 ],
 "metadata": {
  "kernelspec": {
   "display_name": "Python 3 (ipykernel)",
   "language": "python",
   "name": "python3"
  },
  "language_info": {
   "codemirror_mode": {
    "name": "ipython",
    "version": 3
   },
   "file_extension": ".py",
   "mimetype": "text/x-python",
   "name": "python",
   "nbconvert_exporter": "python",
   "pygments_lexer": "ipython3",
   "version": "3.10.8"
  }
 },
 "nbformat": 4,
 "nbformat_minor": 5
}
